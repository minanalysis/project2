{
 "cells": [
  {
   "cell_type": "markdown",
   "id": "b29fb2f5",
   "metadata": {},
   "source": [
    "## 라이브러리 및 데이터 로드 "
   ]
  },
  {
   "cell_type": "code",
   "execution_count": 4,
   "id": "8208fde1",
   "metadata": {},
   "outputs": [],
   "source": [
    "import pandas as pd\n",
    "import numpy as np"
   ]
  },
  {
   "cell_type": "code",
   "execution_count": 14,
   "id": "1f9ca8a6",
   "metadata": {},
   "outputs": [],
   "source": [
    "action_cloud=pd.read_csv('data/total_tokenized_words_actions_final.csv')\n",
    "annimation_cloud=pd.read_csv('data/total_tokenized_words_animation_final.csv')\n",
    "drama_cloud=pd.read_csv('data/final_words_df1.csv')\n",
    "horror_cloud=pd.read_csv('data/final_words_df2.csv')\n",
    "comedy_cloud=pd.read_csv('data/comedy_word.csv',encoding='cp949')\n",
    "fantasy_cloud=pd.read_csv('data/fantasy_word.csv',encoding='cp949')\n",
    "# commedy_cloud=pd.read_csv('data/final_words_df2.csv')\n",
    "# sf_cloud=pd.read_csv('data/final_words_df2.csv')"
   ]
  },
  {
   "cell_type": "code",
   "execution_count": 15,
   "id": "bd30b313",
   "metadata": {},
   "outputs": [],
   "source": [
    "period1_cloud=pd.read_csv('data/total_tokenized_words_2010_final.csv')\n",
    "period2_cloud=pd.read_csv('data/2010_15_word.csv',encoding='cp949')\n",
    "period3_cloud=pd.read_csv('data/final_words_df3.csv')"
   ]
  },
  {
   "cell_type": "markdown",
   "id": "3c59e39e",
   "metadata": {},
   "source": [
    "## 데이터 프레임 만들고 병합"
   ]
  },
  {
   "cell_type": "markdown",
   "id": "912ef963",
   "metadata": {},
   "source": [
    "(1) genre_cloud : 6 장르별 단어집합\n",
    "(2) period_cloud : 3 시대별 단어집합"
   ]
  },
  {
   "cell_type": "code",
   "execution_count": 16,
   "id": "af046035",
   "metadata": {},
   "outputs": [],
   "source": [
    "genre_cloud=pd.concat([action_cloud,annimation_cloud,drama_cloud,horror_cloud,comedy_cloud,fantasy_cloud],axis=1)"
   ]
  },
  {
   "cell_type": "code",
   "execution_count": 17,
   "id": "cc9d9034",
   "metadata": {},
   "outputs": [],
   "source": [
    "period_cloud=pd.concat([period1_cloud,period2_cloud,period3_cloud],axis=1)"
   ]
  },
  {
   "cell_type": "markdown",
   "id": "c3b705fa",
   "metadata": {},
   "source": [
    "## 데이터 프레임 전처리 "
   ]
  },
  {
   "cell_type": "code",
   "execution_count": 18,
   "id": "70c7f578",
   "metadata": {},
   "outputs": [],
   "source": [
    "cols1=['액션','애니메이션','드라마','호러','코미디','판타지']"
   ]
  },
  {
   "cell_type": "code",
   "execution_count": 19,
   "id": "16fa8d2e",
   "metadata": {},
   "outputs": [],
   "source": [
    "genre_cloud.columns=cols1"
   ]
  },
  {
   "cell_type": "code",
   "execution_count": 32,
   "id": "b698c046",
   "metadata": {},
   "outputs": [
    {
     "data": {
      "text/html": [
       "<div>\n",
       "<style scoped>\n",
       "    .dataframe tbody tr th:only-of-type {\n",
       "        vertical-align: middle;\n",
       "    }\n",
       "\n",
       "    .dataframe tbody tr th {\n",
       "        vertical-align: top;\n",
       "    }\n",
       "\n",
       "    .dataframe thead th {\n",
       "        text-align: right;\n",
       "    }\n",
       "</style>\n",
       "<table border=\"1\" class=\"dataframe\">\n",
       "  <thead>\n",
       "    <tr style=\"text-align: right;\">\n",
       "      <th></th>\n",
       "      <th>액션</th>\n",
       "      <th>애니메이션</th>\n",
       "      <th>드라마</th>\n",
       "      <th>호러</th>\n",
       "      <th>코미디</th>\n",
       "      <th>판타지</th>\n",
       "    </tr>\n",
       "  </thead>\n",
       "  <tbody>\n",
       "    <tr>\n",
       "      <th>0</th>\n",
       "      <td>코로나</td>\n",
       "      <td>너무</td>\n",
       "      <td>오랜</td>\n",
       "      <td>여</td>\n",
       "      <td>그나마</td>\n",
       "      <td>의미</td>\n",
       "    </tr>\n",
       "    <tr>\n",
       "      <th>1</th>\n",
       "      <td>시대</td>\n",
       "      <td>재</td>\n",
       "      <td>나를</td>\n",
       "      <td>주인공</td>\n",
       "      <td>젤</td>\n",
       "      <td>하나</td>\n",
       "    </tr>\n",
       "    <tr>\n",
       "      <th>2</th>\n",
       "      <td>즐거움</td>\n",
       "      <td>있음</td>\n",
       "      <td>울</td>\n",
       "      <td>연기</td>\n",
       "      <td>재밋</td>\n",
       "      <td>하나</td>\n",
       "    </tr>\n",
       "  </tbody>\n",
       "</table>\n",
       "</div>"
      ],
      "text/plain": [
       "    액션 애니메이션 드라마   호러  코미디 판타지\n",
       "0  코로나    너무  오랜    여  그나마  의미\n",
       "1   시대     재  나를  주인공    젤  하나\n",
       "2  즐거움    있음   울   연기   재밋  하나"
      ]
     },
     "execution_count": 32,
     "metadata": {},
     "output_type": "execute_result"
    }
   ],
   "source": [
    "genre_cloud.head(3)"
   ]
  },
  {
   "cell_type": "code",
   "execution_count": 21,
   "id": "772dbbaa",
   "metadata": {},
   "outputs": [],
   "source": [
    "cols2=['기간1','기간2','기간3']"
   ]
  },
  {
   "cell_type": "code",
   "execution_count": 22,
   "id": "b23cd82d",
   "metadata": {},
   "outputs": [],
   "source": [
    "period_cloud.columns=cols2"
   ]
  },
  {
   "cell_type": "code",
   "execution_count": 26,
   "id": "66c43036",
   "metadata": {},
   "outputs": [],
   "source": [
    "genre_cloud.to_csv('genre_cloud.csv',index=False)"
   ]
  },
  {
   "cell_type": "code",
   "execution_count": 27,
   "id": "4cd6136b",
   "metadata": {},
   "outputs": [],
   "source": [
    "period_cloud.to_csv('period_cloud.csv',index=False)"
   ]
  },
  {
   "cell_type": "code",
   "execution_count": 31,
   "id": "d8ffcf39",
   "metadata": {},
   "outputs": [
    {
     "data": {
      "text/html": [
       "<div>\n",
       "<style scoped>\n",
       "    .dataframe tbody tr th:only-of-type {\n",
       "        vertical-align: middle;\n",
       "    }\n",
       "\n",
       "    .dataframe tbody tr th {\n",
       "        vertical-align: top;\n",
       "    }\n",
       "\n",
       "    .dataframe thead th {\n",
       "        text-align: right;\n",
       "    }\n",
       "</style>\n",
       "<table border=\"1\" class=\"dataframe\">\n",
       "  <thead>\n",
       "    <tr style=\"text-align: right;\">\n",
       "      <th></th>\n",
       "      <th>액션</th>\n",
       "      <th>애니메이션</th>\n",
       "      <th>드라마</th>\n",
       "      <th>호러</th>\n",
       "      <th>코미디</th>\n",
       "      <th>판타지</th>\n",
       "    </tr>\n",
       "  </thead>\n",
       "  <tbody>\n",
       "    <tr>\n",
       "      <th>0</th>\n",
       "      <td>코로나</td>\n",
       "      <td>너무</td>\n",
       "      <td>오랜</td>\n",
       "      <td>여</td>\n",
       "      <td>그나마</td>\n",
       "      <td>의미</td>\n",
       "    </tr>\n",
       "    <tr>\n",
       "      <th>1</th>\n",
       "      <td>시대</td>\n",
       "      <td>재</td>\n",
       "      <td>나를</td>\n",
       "      <td>주인공</td>\n",
       "      <td>젤</td>\n",
       "      <td>하나</td>\n",
       "    </tr>\n",
       "    <tr>\n",
       "      <th>2</th>\n",
       "      <td>즐거움</td>\n",
       "      <td>있음</td>\n",
       "      <td>울</td>\n",
       "      <td>연기</td>\n",
       "      <td>재밋</td>\n",
       "      <td>하나</td>\n",
       "    </tr>\n",
       "  </tbody>\n",
       "</table>\n",
       "</div>"
      ],
      "text/plain": [
       "    액션 애니메이션 드라마   호러  코미디 판타지\n",
       "0  코로나    너무  오랜    여  그나마  의미\n",
       "1   시대     재  나를  주인공    젤  하나\n",
       "2  즐거움    있음   울   연기   재밋  하나"
      ]
     },
     "execution_count": 31,
     "metadata": {},
     "output_type": "execute_result"
    }
   ],
   "source": [
    "genre_cloud.head(3)"
   ]
  },
  {
   "cell_type": "code",
   "execution_count": 30,
   "id": "4e0764f9",
   "metadata": {},
   "outputs": [
    {
     "data": {
      "text/html": [
       "<div>\n",
       "<style scoped>\n",
       "    .dataframe tbody tr th:only-of-type {\n",
       "        vertical-align: middle;\n",
       "    }\n",
       "\n",
       "    .dataframe tbody tr th {\n",
       "        vertical-align: top;\n",
       "    }\n",
       "\n",
       "    .dataframe thead th {\n",
       "        text-align: right;\n",
       "    }\n",
       "</style>\n",
       "<table border=\"1\" class=\"dataframe\">\n",
       "  <thead>\n",
       "    <tr style=\"text-align: right;\">\n",
       "      <th></th>\n",
       "      <th>기간1</th>\n",
       "      <th>기간2</th>\n",
       "      <th>기간3</th>\n",
       "    </tr>\n",
       "  </thead>\n",
       "  <tbody>\n",
       "    <tr>\n",
       "      <th>0</th>\n",
       "      <td>캬</td>\n",
       "      <td>송강</td>\n",
       "      <td>재밌었음</td>\n",
       "    </tr>\n",
       "    <tr>\n",
       "      <th>1</th>\n",
       "      <td>쭉</td>\n",
       "      <td>점</td>\n",
       "      <td>최고</td>\n",
       "    </tr>\n",
       "    <tr>\n",
       "      <th>2</th>\n",
       "      <td>펄팩</td>\n",
       "      <td>강동</td>\n",
       "      <td>추천</td>\n",
       "    </tr>\n",
       "  </tbody>\n",
       "</table>\n",
       "</div>"
      ],
      "text/plain": [
       "  기간1 기간2   기간3\n",
       "0   캬  송강  재밌었음\n",
       "1   쭉   점    최고\n",
       "2  펄팩  강동    추천"
      ]
     },
     "execution_count": 30,
     "metadata": {},
     "output_type": "execute_result"
    }
   ],
   "source": [
    "period_cloud.head(3)"
   ]
  },
  {
   "cell_type": "code",
   "execution_count": null,
   "id": "4aa48423",
   "metadata": {},
   "outputs": [],
   "source": []
  }
 ],
 "metadata": {
  "kernelspec": {
   "display_name": "Python 3",
   "language": "python",
   "name": "python3"
  },
  "language_info": {
   "codemirror_mode": {
    "name": "ipython",
    "version": 3
   },
   "file_extension": ".py",
   "mimetype": "text/x-python",
   "name": "python",
   "nbconvert_exporter": "python",
   "pygments_lexer": "ipython3",
   "version": "3.8.8"
  },
  "toc": {
   "base_numbering": 1,
   "nav_menu": {},
   "number_sections": true,
   "sideBar": true,
   "skip_h1_title": false,
   "title_cell": "Table of Contents",
   "title_sidebar": "Contents",
   "toc_cell": false,
   "toc_position": {},
   "toc_section_display": true,
   "toc_window_display": false
  }
 },
 "nbformat": 4,
 "nbformat_minor": 5
}
