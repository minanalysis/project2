{
 "cells": [
  {
   "cell_type": "markdown",
   "id": "2643aeb8",
   "metadata": {},
   "source": [
    "## 라이브러리, 토큰화된 로우 호출"
   ]
  },
  {
   "cell_type": "code",
   "execution_count": null,
   "id": "f7a2f825",
   "metadata": {},
   "outputs": [],
   "source": [
    "import pandas as pd \n",
    "import numpy as np "
   ]
  },
  {
   "cell_type": "code",
   "execution_count": null,
   "id": "dcefdd8e",
   "metadata": {},
   "outputs": [],
   "source": [
    "!pip install glove_python_binary"
   ]
  },
  {
   "cell_type": "code",
   "execution_count": null,
   "id": "8579f954",
   "metadata": {},
   "outputs": [],
   "source": [
    "import pickle #토큰화 완료한 리스트 불러오기 위해 저장(여러형식) 라이브러리 pickle 이용 "
   ]
  },
  {
   "cell_type": "code",
   "execution_count": null,
   "id": "46d7ec5d",
   "metadata": {},
   "outputs": [],
   "source": [
    "with open(\"data/all_tokens.pickle\",\"rb\") as f:\n",
    "    token_list= pickle.load(f)"
   ]
  },
  {
   "cell_type": "code",
   "execution_count": null,
   "id": "c9b668ee",
   "metadata": {},
   "outputs": [],
   "source": [
    "len(token_list) #샘플리뷰 수와 일치 "
   ]
  },
  {
   "cell_type": "markdown",
   "id": "4b80e6c2",
   "metadata": {},
   "source": [
    "## Glove Embedding ( glove_model2 )"
   ]
  },
  {
   "cell_type": "markdown",
   "id": "865e8598",
   "metadata": {},
   "source": [
    "글로브 모델과 워드투백 모델 중, 가짜 리뷰선별에 적합한 모델을 선정하기 위해 두 모델 모두 실행해 보았다. \n",
    "그 中 글로브 임베딩을 실행한 코드 "
   ]
  },
  {
   "cell_type": "code",
   "execution_count": null,
   "id": "9fca01ae",
   "metadata": {},
   "outputs": [],
   "source": [
    "! pip install glove_python_binary"
   ]
  },
  {
   "cell_type": "code",
   "execution_count": null,
   "id": "11c31ebb",
   "metadata": {},
   "outputs": [],
   "source": [
    "from glove import Corpus, Glove"
   ]
  },
  {
   "cell_type": "code",
   "execution_count": null,
   "id": "8e36380f",
   "metadata": {},
   "outputs": [],
   "source": [
    "corpus=Corpus()"
   ]
  },
  {
   "cell_type": "code",
   "execution_count": null,
   "id": "aa5187ce",
   "metadata": {},
   "outputs": [],
   "source": [
    "import random"
   ]
  },
  {
   "cell_type": "code",
   "execution_count": null,
   "id": "1c7a33ef",
   "metadata": {},
   "outputs": [],
   "source": [
    "corpus.fit(token_list, window=8) #백터 계산 시, 주변 8개 단어까지 영향범위로 설정"
   ]
  },
  {
   "cell_type": "code",
   "execution_count": null,
   "id": "cacdd7b0",
   "metadata": {},
   "outputs": [],
   "source": [
    "# model\n",
    "glove = Glove(no_components=128, learning_rate=0.01) #128차원으로 설정\n",
    "glove.fit(corpus.matrix, epochs=50, no_threads=4, verbose=False) #epoch:학습횟수 \n",
    "glove.add_dictionary(corpus.dictionary)"
   ]
  },
  {
   "cell_type": "code",
   "execution_count": null,
   "id": "e404f867",
   "metadata": {},
   "outputs": [],
   "source": [
    "glove.save('glove_model2.model')"
   ]
  },
  {
   "cell_type": "code",
   "execution_count": null,
   "id": "ba17ec96",
   "metadata": {},
   "outputs": [],
   "source": [
    "glove_model=Glove.load('glove_model2.model')"
   ]
  },
  {
   "cell_type": "code",
   "execution_count": null,
   "id": "5844df6f",
   "metadata": {},
   "outputs": [],
   "source": [
    "glove.word_vectors.shape"
   ]
  },
  {
   "cell_type": "code",
   "execution_count": null,
   "id": "ccb1fedd",
   "metadata": {},
   "outputs": [],
   "source": [
    "word_dict = {}\n",
    "for word in  glove_model.dictionary.keys():\n",
    "    word_dict[word] = glove_model.word_vectors[glove_model.dictionary[word]]\n",
    "print('[Success !] Lengh of word dict... : ', len(word_dict))"
   ]
  },
  {
   "cell_type": "code",
   "execution_count": null,
   "id": "8c48240d",
   "metadata": {},
   "outputs": [],
   "source": [
    "glove_model.dictionary.keys() "
   ]
  },
  {
   "cell_type": "code",
   "execution_count": null,
   "id": "bc02fe7e",
   "metadata": {},
   "outputs": [],
   "source": [
    "len(glove_model.word_vectors) #128차원의 백터로 임베딩된 단어들 확인 "
   ]
  },
  {
   "cell_type": "markdown",
   "id": "21ed98a3",
   "metadata": {},
   "source": [
    "## 문장 단위 임베딩"
   ]
  },
  {
   "cell_type": "code",
   "execution_count": null,
   "id": "baffe013",
   "metadata": {},
   "outputs": [],
   "source": [
    "def sent2vec_glove(token_list, embedding_dim=128):\n",
    "  \n",
    "    size = len(token_list)\n",
    "    matrix = np.zeros((size, embedding_dim))\n",
    "    word_table = word_dict     # glove word_dict\n",
    "\n",
    "    for i, token in enumerate(token_list):\n",
    "        vector = np.array([\n",
    "            word_table[t] for t in token\n",
    "            if t in word_table\n",
    "        ])\n",
    "\n",
    "        if vector.size != 0:\n",
    "            final_vector = np.mean(vector, axis=0)\n",
    "            matrix[i] = final_vector\n",
    "\n",
    "    return matrix"
   ]
  },
  {
   "cell_type": "markdown",
   "id": "49ca0fbf",
   "metadata": {},
   "source": [
    "+ 문장 임베딩 값을 kmeans군집화 후 TSNE 시각화 "
   ]
  },
  {
   "cell_type": "code",
   "execution_count": null,
   "id": "0f5e0eb9",
   "metadata": {},
   "outputs": [],
   "source": [
    "from sklearn.cluster import KMeans\n",
    "from sklearn.manifold import TSNE\n",
    "# 시각화\n",
    "import seaborn as sns\n",
    "import matplotlib.pyplot as plt"
   ]
  },
  {
   "cell_type": "code",
   "execution_count": null,
   "id": "7b99b060",
   "metadata": {},
   "outputs": [],
   "source": [
    "sentence_glove = sent2vec_glove(token_list)\n",
    "sentence_glove.shape"
   ]
  },
  {
   "cell_type": "code",
   "execution_count": null,
   "id": "df9aab87",
   "metadata": {},
   "outputs": [],
   "source": [
    "# clustering\n",
    "k = 3\n",
    "kmeans = KMeans(n_clusters=k, random_state=2022)\n",
    "y_pred = kmeans.fit_predict(sentence_glove)\n",
    "\n",
    "# tsne\n",
    "tsne = TSNE(verbose=1, perplexity=100, random_state=2022)     # perplexity : 유사정도\n",
    "X_embedded = tsne.fit_transform(sentence_glove)\n",
    "print('Embedding shape 확인', X_embedded.shape)\n",
    "\n",
    "# 시각화\n",
    "sns.set(rc={'figure.figsize':(20,20)})\n",
    "# colors\n",
    "palette = sns.hls_palette(10, l=.4, s=.9) \n",
    "# plot\n",
    "sns.scatterplot(X_embedded[:,0], X_embedded[:,1], hue=y_pred,\n",
    "                legend='full',palette='bright')     # kmeans로 예측\n",
    "\n",
    "plt.title('t-SNE with KMeans Labels and Glove Embedding')\n",
    "plt.savefig(\"t-sne_question_glove_embedding.png\")\n",
    "plt.show()"
   ]
  }
 ],
 "metadata": {
  "kernelspec": {
   "display_name": "Python 3",
   "language": "python",
   "name": "python3"
  },
  "language_info": {
   "codemirror_mode": {
    "name": "ipython",
    "version": 3
   },
   "file_extension": ".py",
   "mimetype": "text/x-python",
   "name": "python",
   "nbconvert_exporter": "python",
   "pygments_lexer": "ipython3",
   "version": "3.8.8"
  },
  "toc": {
   "base_numbering": 1,
   "nav_menu": {},
   "number_sections": true,
   "sideBar": true,
   "skip_h1_title": false,
   "title_cell": "Table of Contents",
   "title_sidebar": "Contents",
   "toc_cell": false,
   "toc_position": {},
   "toc_section_display": true,
   "toc_window_display": false
  }
 },
 "nbformat": 4,
 "nbformat_minor": 5
}
