{
 "cells": [
  {
   "cell_type": "markdown",
   "id": "50288309",
   "metadata": {},
   "source": [
    "## 필요한 파일, 라이브러리 로드"
   ]
  },
  {
   "cell_type": "code",
   "execution_count": null,
   "id": "3056eedd",
   "metadata": {},
   "outputs": [],
   "source": [
    "import pandas as pd \n",
    "import matplotlib.pyplot as plt "
   ]
  },
  {
   "cell_type": "code",
   "execution_count": null,
   "id": "cdab2ddc",
   "metadata": {},
   "outputs": [],
   "source": [
    "from sklearn.cluster import KMeans"
   ]
  },
  {
   "cell_type": "code",
   "execution_count": null,
   "id": "804d70f1",
   "metadata": {},
   "outputs": [],
   "source": [
    "df=pd.read_csv('data/real_all_movies_1564713_withlen.csv') #수집했던 모든 영화리뷰 데이터 ( 약 150만개 )"
   ]
  },
  {
   "cell_type": "markdown",
   "id": "8102df3f",
   "metadata": {},
   "source": [
    "## 차원축소 ( 문장리뷰 제외한, 정황 정보만 ) "
   ]
  },
  {
   "cell_type": "code",
   "execution_count": null,
   "id": "0fda862d",
   "metadata": {},
   "outputs": [],
   "source": [
    "from sklearn.decomposition import PCA\n",
    "pca=PCA(n_components=2) "
   ]
  },
  {
   "cell_type": "code",
   "execution_count": null,
   "id": "9cb04147",
   "metadata": {},
   "outputs": [],
   "source": [
    "df2=df[['평점','관람여부','스포여부','날짜차이','댓글길이']] #데이터셋에서 학습에 필요한 컬럼만 추출 "
   ]
  },
  {
   "cell_type": "code",
   "execution_count": null,
   "id": "4eae773d",
   "metadata": {},
   "outputs": [],
   "source": [
    "data=pca.fit_transform(df2)\n",
    "print(data.shape)\n",
    "print(data)"
   ]
  },
  {
   "cell_type": "code",
   "execution_count": null,
   "id": "6ebda5fa",
   "metadata": {},
   "outputs": [],
   "source": [
    "pca.explained_variance_ratio_ # 한 축이 86%의 설명력을 가지고 있음"
   ]
  },
  {
   "cell_type": "markdown",
   "id": "75828696",
   "metadata": {},
   "source": [
    "## 군집화 "
   ]
  },
  {
   "cell_type": "markdown",
   "id": "bcb6aaee",
   "metadata": {},
   "source": [
    "k-means 활용, \n",
    "가짜리뷰가 많이 속한 군집과 가까운 리뷰들을 가짜 군집이라고 가정할 것이기 때문에, 거리 기반의 k-means를 방법론으로 채택"
   ]
  },
  {
   "cell_type": "code",
   "execution_count": null,
   "id": "42683119",
   "metadata": {},
   "outputs": [],
   "source": [
    "kmeans.fit(data)"
   ]
  },
  {
   "cell_type": "code",
   "execution_count": null,
   "id": "60439e45",
   "metadata": {},
   "outputs": [],
   "source": [
    "cluster=kmeans.predict(data)\n",
    "cluster"
   ]
  },
  {
   "cell_type": "code",
   "execution_count": null,
   "id": "a2d3fda6",
   "metadata": {},
   "outputs": [],
   "source": [
    "df3=pd.DataFrame(data,columns=['PCA1','PCA2'])\n",
    "df3['cluster']=cluster\n",
    "df3\n",
    "df3.to_csv('context_pca.csv',index=False) # 차원축소 결과 + 클러스터링 결과를 한 프레임에 요약"
   ]
  },
  {
   "cell_type": "markdown",
   "id": "43827d6a",
   "metadata": {},
   "source": [
    "## 최적의 k 찾기"
   ]
  },
  {
   "cell_type": "code",
   "execution_count": null,
   "id": "e2b2e34e",
   "metadata": {},
   "outputs": [],
   "source": [
    "!pip install yellowbrick"
   ]
  },
  {
   "cell_type": "code",
   "execution_count": null,
   "id": "ebab974b",
   "metadata": {},
   "outputs": [],
   "source": [
    "# 적절한 군집수 찾기\n",
    "# Inertia(군집 내 거리제곱합의 합) value (적정 군집수)\n",
    "\n",
    "ks = range(1,10)\n",
    "inertias = []\n",
    "\n",
    "for k in ks:\n",
    "    model = KMeans(n_clusters=k)\n",
    "    model.fit(df2)\n",
    "    inertias.append(model.inertia_)\n",
    "    \n",
    "\n",
    "# Plot ks vs inertias\n",
    "plt.figure(figsize=(4, 4))\n",
    "\n",
    "plt.plot(ks, inertias, '-o')\n",
    "plt.xlabel('number of clusters, k')\n",
    "plt.ylabel('inertia')\n",
    "plt.xticks(ks)\n",
    "plt.show()"
   ]
  },
  {
   "cell_type": "markdown",
   "id": "f56b7a9f",
   "metadata": {},
   "source": [
    "## 시각화"
   ]
  },
  {
   "cell_type": "code",
   "execution_count": null,
   "id": "08973d5f",
   "metadata": {},
   "outputs": [],
   "source": [
    "import seaborn as sns"
   ]
  },
  {
   "cell_type": "code",
   "execution_count": null,
   "id": "4e9af867",
   "metadata": {},
   "outputs": [],
   "source": [
    "sns.lmplot(x='PCA1',y='PCA2',data=df3,hue='cluster',fit_reg=False)"
   ]
  },
  {
   "cell_type": "markdown",
   "id": "f1d0ce6e",
   "metadata": {},
   "source": [
    "## 데이터 프레임에 라벨링 붙이기"
   ]
  },
  {
   "cell_type": "code",
   "execution_count": null,
   "id": "5eabb4e7",
   "metadata": {},
   "outputs": [],
   "source": [
    "df['라벨']=cluster"
   ]
  },
  {
   "cell_type": "code",
   "execution_count": null,
   "id": "92675ef8",
   "metadata": {},
   "outputs": [],
   "source": [
    "df[df['origin_index']==3000000]['라벨'].value_counts()"
   ]
  },
  {
   "cell_type": "code",
   "execution_count": null,
   "id": "63d7c0c9",
   "metadata": {},
   "outputs": [],
   "source": [
    "df.to_csv('context_clust.csv',index=False)"
   ]
  }
 ],
 "metadata": {
  "kernelspec": {
   "display_name": "Python 3",
   "language": "python",
   "name": "python3"
  },
  "language_info": {
   "codemirror_mode": {
    "name": "ipython",
    "version": 3
   },
   "file_extension": ".py",
   "mimetype": "text/x-python",
   "name": "python",
   "nbconvert_exporter": "python",
   "pygments_lexer": "ipython3",
   "version": "3.8.8"
  },
  "toc": {
   "base_numbering": 1,
   "nav_menu": {},
   "number_sections": true,
   "sideBar": true,
   "skip_h1_title": false,
   "title_cell": "Table of Contents",
   "title_sidebar": "Contents",
   "toc_cell": false,
   "toc_position": {},
   "toc_section_display": true,
   "toc_window_display": false
  }
 },
 "nbformat": 4,
 "nbformat_minor": 5
}
