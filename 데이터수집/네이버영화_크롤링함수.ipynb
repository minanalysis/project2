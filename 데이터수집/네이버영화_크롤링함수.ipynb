{
 "cells": [
  {
   "cell_type": "markdown",
   "id": "b32552f5",
   "metadata": {},
   "source": [
    "## 라이브러리, 페이지 로드"
   ]
  },
  {
   "cell_type": "code",
   "execution_count": null,
   "id": "9878b7e0",
   "metadata": {},
   "outputs": [],
   "source": [
    "import pandas as pd\n",
    "import requests \n",
    "import re\n",
    "from bs4 import BeautifulSoup as bs"
   ]
  },
  {
   "cell_type": "code",
   "execution_count": null,
   "id": "c3effdec",
   "metadata": {},
   "outputs": [],
   "source": [
    "code=192150\n",
    "page_no=1\n",
    "review_list=[] #예시:모가디슈"
   ]
  },
  {
   "cell_type": "code",
   "execution_count": null,
   "id": "4442aebb",
   "metadata": {},
   "outputs": [],
   "source": [
    "url=f\"https://movie.naver.com/movie/bi/mi/pointWriteFormList.naver?code={code}&type=after&isActualPointWriteExecute=false&isMileageSubscriptionAlready=false&isMileageSubscriptionReject=false&page={page_no}\"    \n",
    "headers={'user-agent':'Mozilla/5.0 (Windows NT 10.0; Win64; x64) AppleWebKit/537.36 (KHTML, like Gecko) Chrome/97.0.4692.71 Safari/537.36'}\n",
    "response=requests.get(url,headers=headers) \n",
    "html = bs(response.text,'lxml')\n",
    "html"
   ]
  },
  {
   "cell_type": "markdown",
   "id": "800f39b3",
   "metadata": {},
   "source": [
    "## 전체 리뷰 수(total_cnt) & 페이지 수(page_end) 로드 "
   ]
  },
  {
   "cell_type": "code",
   "execution_count": null,
   "id": "9761533e",
   "metadata": {},
   "outputs": [],
   "source": [
    "total = html.select('div.score_total > strong.total > em') #전체 리뷰 수가 들어있는 태그 크롤링\n",
    "total_cnt = int(total[0].text.replace(',','')) #숫자만 추출\n",
    "total_cnt"
   ]
  },
  {
   "cell_type": "code",
   "execution_count": null,
   "id": "d2cc2381",
   "metadata": {},
   "outputs": [],
   "source": [
    "page_end = int(total_cnt / 10) #페이지 하나 당 리뷰 10개 \n",
    "if total_cnt%10 != 0:\n",
    "    page_end += 1 \n",
    "page_end"
   ]
  },
  {
   "cell_type": "markdown",
   "id": "288038b8",
   "metadata": {},
   "source": [
    "## 네이버 영화관련 최종 크롤링 "
   ]
  },
  {
   "cell_type": "code",
   "execution_count": null,
   "id": "869d11df",
   "metadata": {},
   "outputs": [],
   "source": [
    "# 페이지 번호, 댓글 리스트를 매개변수로 설정\n",
    "# 순차적으로 댓글과 여러 정보를 딕셔너리로 저장 후 리스트에 최종으로 담는다. (별다른 리턴값은 없다)\n",
    "import re\n",
    "\n",
    "def get_review_list(page_no, review_list):\n",
    "    \"\"\"\n",
    "    페이지별로 10개씩 댓글 및 평점을 수집하여 리스트에 넣는다.\n",
    "    \"\"\"\n",
    "    url=f\"https://movie.naver.com/movie/bi/mi/pointWriteFormList.naver?code={code}&type=after&isActualPointWriteExecute=false&isMileageSubscriptionAlready=false&isMileageSubscriptionReject=false&page={page_no}\"    \n",
    "    headers={'user-agent':'Mozilla/5.0 (Windows NT 10.0; Win64; x64) AppleWebKit/537.36 (KHTML, like Gecko) Chrome/97.0.4692.71 Safari/537.36'}\n",
    "    response=requests.get(url,headers=headers) \n",
    "    html = bs(response.text,'lxml')\n",
    "    \n",
    "        # 댓글(review), 평점(score) 크롤링 태그경로 \n",
    "    review = html.select('div.score_result > ul > li > div.score_reple > p > span')\n",
    "    score = html.select('div.score_result > ul > li > div.star_score > em')\n",
    "\n",
    "    # review에는 관람 여부, 스포일러 여부, 댓글 총 3가지의 데이터가 있다.\n",
    "    # 상황에 따라 알맞는 데이터를 가져오기 위해 제어변수 num을 설정 및 초기화 하고,\n",
    "    # 댓글 자체의 순서를 제어할 cnt 변수 생성, 초기화한다.\n",
    "    num = 0\n",
    "    cnt = 0\n",
    "    \n",
    "        # 공감 비공감 갯수 크롤링 태그경로 \n",
    "    like = html.select('div.btn_area > a._sympathyButton> strong')\n",
    "    unlike = html.select('div.btn_area > a._notSympathyButton > strong')  \n",
    "    \n",
    "    while (num < len(review)):\n",
    "        # len(review)는 한 페이지 당 댓글 수 ( 단, 관람객이나 스포일러라면 +1 )\n",
    "        # 정보를 담을 딕셔너리 초기화 (info_dic)\n",
    "        info_dic = {\"댓글번호\":'', \"작성일자\":'', \"댓글\":'', \"평점\":0, \"관람여부\":0, \"스포여부\":0, \"공감수\":0, \"비공감수\":0, \"id\":''} \n",
    "\n",
    "        # 댓글번호 크롤링 태그경로를 통한 추출\n",
    "        review_no = str(html.select('div.score_reple > dl > dt > em > a')[cnt]) #댓글번호는 관람객,스포일러 상관없이 아이디 당 존재 \n",
    "        info_dic[\"댓글번호\"] = int(re.findall('\\d+',review_no)[0]) #여기서 0은 인덱싱 고정\n",
    "        \n",
    "        # id 및 작성일자 크롤링 태그경로를 통한 추출 \n",
    "        info_dic[\"id\"] = html.select('div.score_reple > dl > dt ')[cnt].text.strip().split('\\n\\n\\n')[0]\n",
    "        info_dic[\"작성일자\"] = html.select('div.score_reple > dl > dt ')[cnt].text.strip().split('\\n\\n\\n')[1]\n",
    "        # 0,1은 리스트 인덱싱\n",
    "        \n",
    "        # 댓글 추출 (관람 여부, 스포일러 여부 추가)\n",
    "        # 관람 여부 확인 -> 스포일러 여부 확인 -> 댓글 저장 순으로 진행한다.\n",
    "        # 댓글이 저장되면 최종 저장한 인덱스 그 다음으로 num을 이동시킨다.\n",
    "        if review[num].text == '관람객':\n",
    "            info_dic[\"관람여부\"] = 1\n",
    "            if review[num+1].text == '스포일러가 포함된 감상평입니다. 감상평 보기':\n",
    "                info_dic[\"스포여부\"] = 1\n",
    "                info_dic[\"댓글\"] = review[num+2].text.strip()\n",
    "                num += 3\n",
    "            else :   \n",
    "                info_dic[\"댓글\"] = review[num+1].text.strip()\n",
    "                num += 2\n",
    "        elif review[num].text == '스포일러가 포함된 감상평입니다. 감상평 보기':\n",
    "            info_dic[\"스포여부\"] = 1\n",
    "            info_dic[\"댓글\"] = review[num+1].text.strip()\n",
    "            num += 2\n",
    "        else :\n",
    "            info_dic[\"댓글\"] = review[num].text.strip()\n",
    "            num += 1\n",
    "\n",
    "        # 평점 추출\n",
    "        info_dic[\"평점\"] = score[cnt].text.strip()\n",
    "        \n",
    "        # 공감, 비공감수 추출\n",
    "        info_dic[\"공감수\"] = int(re.findall('\\d+',str(like[cnt]))[1])\n",
    "        info_dic[\"비공감수\"] = int(re.findall('\\d+',str(unlike[cnt]))[1])            \n",
    "        \n",
    "        # 댓글의 모든 정보를 넣었으니 순서를 다음으로 넘긴다.\n",
    "        cnt += 1\n",
    "        # 정보가 담긴 딕셔너리를 리스트에 저장\n",
    "        review_list.append(info_dic)"
   ]
  },
  {
   "cell_type": "markdown",
   "id": "d09f3cac",
   "metadata": {},
   "source": [
    "## 페이지 반복"
   ]
  },
  {
   "cell_type": "code",
   "execution_count": null,
   "id": "0429645e",
   "metadata": {},
   "outputs": [],
   "source": [
    "# 처음부터 마지막 페이지까지 반복\n",
    "while (page_no <= 20):\n",
    "    # get_review_list 함수를 통해 댓글 정보들을 리스트에 담는다\n",
    "    get_review_list(page_no, review_list)\n",
    "    page_no += 1"
   ]
  },
  {
   "cell_type": "markdown",
   "id": "ee114043",
   "metadata": {},
   "source": [
    "## 데이터 프레임 생성"
   ]
  },
  {
   "cell_type": "code",
   "execution_count": null,
   "id": "770c41ad",
   "metadata": {},
   "outputs": [],
   "source": [
    "review_final = pd.DataFrame(review_list)"
   ]
  },
  {
   "cell_type": "code",
   "execution_count": null,
   "id": "d7c74007",
   "metadata": {},
   "outputs": [],
   "source": [
    "review_final['작성일자']=pd.to_datetime(review_final['작성일자'])"
   ]
  },
  {
   "cell_type": "code",
   "execution_count": null,
   "id": "3b17ad07",
   "metadata": {},
   "outputs": [],
   "source": [
    "review_final['평점']=review_final['평점'].astype(int)"
   ]
  },
  {
   "cell_type": "code",
   "execution_count": null,
   "id": "94c802a9",
   "metadata": {},
   "outputs": [],
   "source": [
    "review_final"
   ]
  }
 ],
 "metadata": {
  "kernelspec": {
   "display_name": "Python 3",
   "language": "python",
   "name": "python3"
  },
  "language_info": {
   "codemirror_mode": {
    "name": "ipython",
    "version": 3
   },
   "file_extension": ".py",
   "mimetype": "text/x-python",
   "name": "python",
   "nbconvert_exporter": "python",
   "pygments_lexer": "ipython3",
   "version": "3.8.8"
  },
  "toc": {
   "base_numbering": 1,
   "nav_menu": {},
   "number_sections": true,
   "sideBar": true,
   "skip_h1_title": false,
   "title_cell": "Table of Contents",
   "title_sidebar": "Contents",
   "toc_cell": false,
   "toc_position": {},
   "toc_section_display": true,
   "toc_window_display": false
  }
 },
 "nbformat": 4,
 "nbformat_minor": 5
}
