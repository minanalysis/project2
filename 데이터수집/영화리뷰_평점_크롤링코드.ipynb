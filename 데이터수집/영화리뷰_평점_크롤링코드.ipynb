{
 "cells": [
  {
   "cell_type": "markdown",
   "id": "5b5ee46d",
   "metadata": {},
   "source": [
    "## 웹사이트 크롤링 "
   ]
  },
  {
   "cell_type": "code",
   "execution_count": null,
   "id": "700d4fcd",
   "metadata": {},
   "outputs": [],
   "source": [
    "import pandas as pd\n",
    "import seaborn as sns \n",
    "import matplotlib.pyplot as plt\n",
    "import requests \n",
    "from bs4 import BeautifulSoup as bs\n",
    "import re"
   ]
  },
  {
   "cell_type": "code",
   "execution_count": null,
   "id": "2a39571f",
   "metadata": {},
   "outputs": [],
   "source": [
    "url='https://movie.naver.com/movie/bi/mi/pointWriteFormList.naver?code=48246&type=after&isActualPointWriteExecute=false&isMileageSubscriptionAlready=false&isMileageSubscriptionReject=false'     "
   ]
  },
  {
   "cell_type": "code",
   "execution_count": null,
   "id": "e8a0efe6",
   "metadata": {},
   "outputs": [],
   "source": [
    "headers={'user-agent':'Mozilla/5.0 (Windows NT 10.0; Win64; x64) AppleWebKit/537.36 (KHTML, like Gecko) Chrome/97.0.4692.71 Safari/537.36'}"
   ]
  },
  {
   "cell_type": "code",
   "execution_count": null,
   "id": "e4b4108e",
   "metadata": {},
   "outputs": [],
   "source": [
    "response=requests.get(url,headers=headers) "
   ]
  },
  {
   "cell_type": "code",
   "execution_count": null,
   "id": "89261437",
   "metadata": {},
   "outputs": [],
   "source": [
    "response.text"
   ]
  },
  {
   "cell_type": "code",
   "execution_count": null,
   "id": "1958b0e2",
   "metadata": {},
   "outputs": [],
   "source": [
    "html = bs(response.text,'lxml')"
   ]
  },
  {
   "cell_type": "code",
   "execution_count": null,
   "id": "1eaca588",
   "metadata": {},
   "outputs": [],
   "source": [
    "html"
   ]
  },
  {
   "cell_type": "markdown",
   "id": "33a3c7e1",
   "metadata": {},
   "source": [
    "## 리뷰 추출 [ 파생변수: review(리스트) ]"
   ]
  },
  {
   "cell_type": "code",
   "execution_count": null,
   "id": "ce839aa4",
   "metadata": {},
   "outputs": [],
   "source": [
    "temp=html.select('div.score_result > ul > li > div.score_reple > p > span')\n",
    "temp"
   ]
  },
  {
   "cell_type": "code",
   "execution_count": null,
   "id": "f24659f4",
   "metadata": {},
   "outputs": [],
   "source": [
    "review=[]\n",
    "\n",
    "for i in range(len(temp)):\n",
    "    if temp[i].text != '관람객' and temp[i].text !='스포일러가 포함된 감상평입니다. 감상평 보기': \n",
    "        a=temp[i].text.strip()\n",
    "    review.append(a)\n",
    "         \n",
    "\n",
    "review"
   ]
  },
  {
   "cell_type": "markdown",
   "id": "2555cc7c",
   "metadata": {},
   "source": [
    "## 평점 추출 [ 파생변수: score(리스트) ] "
   ]
  },
  {
   "cell_type": "code",
   "execution_count": null,
   "id": "233739a5",
   "metadata": {},
   "outputs": [],
   "source": [
    "temp1= html.select('div.score_result > ul > li > div.star_score > em')"
   ]
  },
  {
   "cell_type": "code",
   "execution_count": null,
   "id": "ae6c79e8",
   "metadata": {},
   "outputs": [],
   "source": [
    "temp1"
   ]
  },
  {
   "cell_type": "code",
   "execution_count": null,
   "id": "053f0c5d",
   "metadata": {},
   "outputs": [],
   "source": [
    "score=[]\n",
    "\n",
    "for i in range(len(temp1)):\n",
    "    b=temp1[i].text.strip()\n",
    "    score.append(b)\n",
    "\n",
    "score"
   ]
  },
  {
   "cell_type": "markdown",
   "id": "c25a8954",
   "metadata": {},
   "source": [
    "## 리뷰와 평점 병합 [ review_score (데이터 프레임) ]"
   ]
  },
  {
   "cell_type": "code",
   "execution_count": null,
   "id": "213912c8",
   "metadata": {},
   "outputs": [],
   "source": [
    "print(review)\n",
    "print(score)"
   ]
  },
  {
   "cell_type": "code",
   "execution_count": null,
   "id": "0e2e3986",
   "metadata": {},
   "outputs": [],
   "source": [
    "review_score=pd.DataFrame({'review':review,'score':score})"
   ]
  },
  {
   "cell_type": "code",
   "execution_count": null,
   "id": "f565ad75",
   "metadata": {},
   "outputs": [],
   "source": [
    "review_score"
   ]
  },
  {
   "cell_type": "markdown",
   "id": "a8b6a0f2",
   "metadata": {},
   "source": [
    "## 총 리뷰_평점 갯수 [파생변수: total_num (int)] (마지막 페이지 크롤링 문제 해결 위해)"
   ]
  },
  {
   "cell_type": "code",
   "execution_count": null,
   "id": "c3fbb05a",
   "metadata": {},
   "outputs": [],
   "source": [
    "temp3=html.select('div.score_total > strong.total > em')\n",
    "temp3"
   ]
  },
  {
   "cell_type": "code",
   "execution_count": null,
   "id": "cb656f44",
   "metadata": {},
   "outputs": [],
   "source": [
    "total_num=int(temp3[0].text.replace(',',''))"
   ]
  }
 ],
 "metadata": {
  "kernelspec": {
   "display_name": "Python 3",
   "language": "python",
   "name": "python3"
  },
  "language_info": {
   "codemirror_mode": {
    "name": "ipython",
    "version": 3
   },
   "file_extension": ".py",
   "mimetype": "text/x-python",
   "name": "python",
   "nbconvert_exporter": "python",
   "pygments_lexer": "ipython3",
   "version": "3.8.8"
  },
  "toc": {
   "base_numbering": 1,
   "nav_menu": {},
   "number_sections": true,
   "sideBar": true,
   "skip_h1_title": false,
   "title_cell": "Table of Contents",
   "title_sidebar": "Contents",
   "toc_cell": false,
   "toc_position": {
    "height": "calc(100% - 180px)",
    "left": "10px",
    "top": "150px",
    "width": "384px"
   },
   "toc_section_display": true,
   "toc_window_display": true
  }
 },
 "nbformat": 4,
 "nbformat_minor": 5
}
