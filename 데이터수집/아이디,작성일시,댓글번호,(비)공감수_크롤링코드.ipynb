{
 "cells": [
  {
   "cell_type": "markdown",
   "id": "5b5ee46d",
   "metadata": {},
   "source": [
    "## 웹사이트 크롤링 "
   ]
  },
  {
   "cell_type": "code",
   "execution_count": null,
   "id": "700d4fcd",
   "metadata": {},
   "outputs": [],
   "source": [
    "import pandas as pd\n",
    "import seaborn as sns \n",
    "import matplotlib.pyplot as plt\n",
    "import requests \n",
    "from bs4 import BeautifulSoup as bs\n",
    "import re"
   ]
  },
  {
   "cell_type": "code",
   "execution_count": null,
   "id": "2a39571f",
   "metadata": {},
   "outputs": [],
   "source": [
    "#샘플: 7광구 \n",
    "url='https://movie.naver.com/movie/bi/mi/pointWriteFormList.naver?code=48246&type=after&isActualPointWriteExecute=false&isMileageSubscriptionAlready=false&isMileageSubscriptionReject=false'     "
   ]
  },
  {
   "cell_type": "code",
   "execution_count": null,
   "id": "e8a0efe6",
   "metadata": {},
   "outputs": [],
   "source": [
    "headers={'user-agent':'Mozilla/5.0 (Windows NT 10.0; Win64; x64) AppleWebKit/537.36 (KHTML, like Gecko) Chrome/97.0.4692.71 Safari/537.36'}"
   ]
  },
  {
   "cell_type": "code",
   "execution_count": null,
   "id": "e4b4108e",
   "metadata": {},
   "outputs": [],
   "source": [
    "response=requests.get(url,headers=headers) "
   ]
  },
  {
   "cell_type": "code",
   "execution_count": null,
   "id": "89261437",
   "metadata": {},
   "outputs": [],
   "source": [
    "response.text"
   ]
  },
  {
   "cell_type": "code",
   "execution_count": null,
   "id": "1958b0e2",
   "metadata": {},
   "outputs": [],
   "source": [
    "html = bs(response.text,'lxml')"
   ]
  },
  {
   "cell_type": "code",
   "execution_count": null,
   "id": "1eaca588",
   "metadata": {},
   "outputs": [],
   "source": [
    "html"
   ]
  },
  {
   "cell_type": "markdown",
   "id": "49e58d84",
   "metadata": {},
   "source": [
    "## 아이디 + 작성 일시 추출 [ 파생변수: user_id, review_date ]"
   ]
  },
  {
   "cell_type": "code",
   "execution_count": null,
   "id": "6d58ed32",
   "metadata": {},
   "outputs": [],
   "source": [
    "temp2=html.select('div.score_reple > dl > dt ')[0].text.strip().split('\\n\\n\\n') \n",
    "#여기서 0이 for문에서 바뀔숫자"
   ]
  },
  {
   "cell_type": "code",
   "execution_count": null,
   "id": "7e9949b6",
   "metadata": {},
   "outputs": [],
   "source": [
    "user_id=temp2[0] #여기서 0은 for문 안에 들어가는거 아님! 슛자 바뀌면 안됨!"
   ]
  },
  {
   "cell_type": "code",
   "execution_count": null,
   "id": "487fc306",
   "metadata": {},
   "outputs": [],
   "source": [
    "review_date=temp2[1] #여기서 1은 for문 안에 들어가는거 아님! 슛자 바뀌면 안됨!"
   ]
  },
  {
   "cell_type": "code",
   "execution_count": null,
   "id": "fa2da50a",
   "metadata": {},
   "outputs": [],
   "source": [
    "print(user_id)\n",
    "print(review_date)"
   ]
  },
  {
   "cell_type": "markdown",
   "id": "1e629d0b",
   "metadata": {},
   "source": [
    "## 댓글번호 추출 [ 파생변수 : review_num ]"
   ]
  },
  {
   "cell_type": "code",
   "execution_count": null,
   "id": "784387a8",
   "metadata": {},
   "outputs": [],
   "source": [
    "# html.find('div','score_reple').find('a')['onclick'] \n",
    "temp3=html.select('div.score_reple > dl > dt > em > a')[0] \n",
    "#여기서 0이 for문에서 바뀔 숫자 \n",
    "temp3"
   ]
  },
  {
   "cell_type": "code",
   "execution_count": null,
   "id": "fb1a3152",
   "metadata": {},
   "outputs": [],
   "source": [
    "import re"
   ]
  },
  {
   "cell_type": "code",
   "execution_count": null,
   "id": "b239d412",
   "metadata": {},
   "outputs": [],
   "source": [
    "review_num=int(re.findall('\\d+',str(temp3))[0]) #여기서 0은 for문 안에 들어가는거 아님! 슛자 바뀌면 안됨!\n",
    "review_num\n",
    "#re 라이브러리 이용) 문자열에서 숫자만 추출하는 정규표현식 "
   ]
  },
  {
   "cell_type": "markdown",
   "id": "83b3ae9e",
   "metadata": {},
   "source": [
    "## 공감수 추출 [ 파생변수 : like_num ]"
   ]
  },
  {
   "cell_type": "code",
   "execution_count": null,
   "id": "0f2db508",
   "metadata": {},
   "outputs": [],
   "source": [
    "temp4=html.select('div.btn_area > a._sympathyButton> strong')\n",
    "temp4"
   ]
  },
  {
   "cell_type": "code",
   "execution_count": null,
   "id": "c4067e83",
   "metadata": {},
   "outputs": [],
   "source": [
    "like_num=int(re.findall('\\d+',str(temp4[0]))[1]) #여기서 0이 for문에서 바뀔숫자!\n",
    "like_num\n",
    "# re_findall:문자열에서 숫자만 추출해주는데, 리스트에 담아서 추출함"
   ]
  },
  {
   "cell_type": "markdown",
   "id": "1197febb",
   "metadata": {},
   "source": [
    "## 비공감수 추출 [ 파생변수 : nolike_num ]"
   ]
  },
  {
   "cell_type": "code",
   "execution_count": null,
   "id": "8689b950",
   "metadata": {},
   "outputs": [],
   "source": [
    "temp5=html.select('div.btn_area > a._notSympathyButton > strong')\n",
    "temp5"
   ]
  },
  {
   "cell_type": "code",
   "execution_count": null,
   "id": "a6ea91a8",
   "metadata": {},
   "outputs": [],
   "source": [
    "nolike_num=int(re.findall('\\d+',str(temp5[0]))[1]) #여기서 0이 for문에서 바뀔숫자!"
   ]
  }
 ],
 "metadata": {
  "kernelspec": {
   "display_name": "Python 3",
   "language": "python",
   "name": "python3"
  },
  "language_info": {
   "codemirror_mode": {
    "name": "ipython",
    "version": 3
   },
   "file_extension": ".py",
   "mimetype": "text/x-python",
   "name": "python",
   "nbconvert_exporter": "python",
   "pygments_lexer": "ipython3",
   "version": "3.8.8"
  },
  "toc": {
   "base_numbering": 1,
   "nav_menu": {},
   "number_sections": true,
   "sideBar": true,
   "skip_h1_title": false,
   "title_cell": "Table of Contents",
   "title_sidebar": "Contents",
   "toc_cell": false,
   "toc_position": {
    "height": "calc(100% - 180px)",
    "left": "10px",
    "top": "150px",
    "width": "384px"
   },
   "toc_section_display": true,
   "toc_window_display": false
  }
 },
 "nbformat": 4,
 "nbformat_minor": 5
}
